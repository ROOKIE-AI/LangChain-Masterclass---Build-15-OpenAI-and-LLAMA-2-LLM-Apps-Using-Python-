{
  "cells": [
    {
      "cell_type": "markdown",
      "metadata": {
        "id": "view-in-github",
        "colab_type": "text"
      },
      "source": [
        "<a href=\"https://colab.research.google.com/github/Rookiehhh/LangChain-Masterclass---Build-15-OpenAI-and-LLAMA-2-LLM-Apps-Using-Python-/blob/main/S06%20-%20Project%202%20-%20Simple%20Conversational%20App/Chat%20Model%20Practical%20Implementation%20using%20Python/Chat%20Model%20Intro.ipynb\" target=\"_parent\"><img src=\"https://colab.research.google.com/assets/colab-badge.svg\" alt=\"Open In Colab\"/></a>"
      ]
    },
    {
      "cell_type": "markdown",
      "id": "0fbd8c48",
      "metadata": {
        "id": "0fbd8c48"
      },
      "source": [
        "<font color='green'>\n",
        "Pip install is the command you use to install Python packages with the help of a tool called Pip package manager.\n",
        "<br><br>Installing LangChain package along with langchain-openai, new update from langchain team\n",
        "</font>"
      ]
    },
    {
      "cell_type": "code",
      "execution_count": 1,
      "id": "d4e032ba",
      "metadata": {
        "id": "d4e032ba",
        "outputId": "d5e2d674-0606-4058-ee2e-f02d5bdea6cb",
        "colab": {
          "base_uri": "https://localhost:8080/"
        }
      },
      "outputs": [
        {
          "output_type": "stream",
          "name": "stdout",
          "text": [
            "\u001b[?25l   \u001b[90m━━━━━━━━━━━━━━━━━━━━━━━━━━━━━━━━━━━━━━━━\u001b[0m \u001b[32m0.0/1.0 MB\u001b[0m \u001b[31m?\u001b[0m eta \u001b[36m-:--:--\u001b[0m\r\u001b[2K   \u001b[91m━━━━━━━━━━━━━━\u001b[0m\u001b[91m╸\u001b[0m\u001b[90m━━━━━━━━━━━━━━━━━━━━━━━━━\u001b[0m \u001b[32m0.4/1.0 MB\u001b[0m \u001b[31m10.9 MB/s\u001b[0m eta \u001b[36m0:00:01\u001b[0m\r\u001b[2K   \u001b[90m━━━━━━━━━━━━━━━━━━━━━━━━━━━━━━━━━━━━━━━━\u001b[0m \u001b[32m1.0/1.0 MB\u001b[0m \u001b[31m15.7 MB/s\u001b[0m eta \u001b[36m0:00:00\u001b[0m\n",
            "\u001b[?25h\u001b[?25l   \u001b[90m━━━━━━━━━━━━━━━━━━━━━━━━━━━━━━━━━━━━━━━━\u001b[0m \u001b[32m0.0/50.9 kB\u001b[0m \u001b[31m?\u001b[0m eta \u001b[36m-:--:--\u001b[0m\r\u001b[2K   \u001b[90m━━━━━━━━━━━━━━━━━━━━━━━━━━━━━━━━━━━━━━━━\u001b[0m \u001b[32m50.9/50.9 kB\u001b[0m \u001b[31m3.5 MB/s\u001b[0m eta \u001b[36m0:00:00\u001b[0m\n",
            "\u001b[2K   \u001b[90m━━━━━━━━━━━━━━━━━━━━━━━━━━━━━━━━━━━━━━━━\u001b[0m \u001b[32m411.6/411.6 kB\u001b[0m \u001b[31m25.1 MB/s\u001b[0m eta \u001b[36m0:00:00\u001b[0m\n",
            "\u001b[2K   \u001b[90m━━━━━━━━━━━━━━━━━━━━━━━━━━━━━━━━━━━━━━━━\u001b[0m \u001b[32m454.3/454.3 kB\u001b[0m \u001b[31m29.2 MB/s\u001b[0m eta \u001b[36m0:00:00\u001b[0m\n",
            "\u001b[2K   \u001b[90m━━━━━━━━━━━━━━━━━━━━━━━━━━━━━━━━━━━━━━━━\u001b[0m \u001b[32m1.2/1.2 MB\u001b[0m \u001b[31m48.4 MB/s\u001b[0m eta \u001b[36m0:00:00\u001b[0m\n",
            "\u001b[?25h"
          ]
        }
      ],
      "source": [
        "!pip install --upgrade --quiet langchain==0.3.13 langchain-openai==0.2.14"
      ]
    },
    {
      "cell_type": "markdown",
      "id": "45626414",
      "metadata": {
        "id": "45626414"
      },
      "source": [
        "## Let's use OpenAI"
      ]
    },
    {
      "cell_type": "markdown",
      "id": "91756516",
      "metadata": {
        "id": "91756516"
      },
      "source": [
        "<font color='green'>\n",
        "Installing Openai package, which includes the classes that we can use to communicate with Openai services\n",
        "<font>"
      ]
    },
    {
      "cell_type": "code",
      "execution_count": 2,
      "id": "f3471ee1",
      "metadata": {
        "id": "f3471ee1"
      },
      "outputs": [],
      "source": [
        "!pip install --quiet openai==1.58.1"
      ]
    },
    {
      "cell_type": "markdown",
      "id": "cb45820c",
      "metadata": {
        "id": "cb45820c"
      },
      "source": [
        "<font color='green'>\n",
        "Imports the Python built-in module called \"os.\"\n",
        "<br>This module provides a way to interact with the operating system, such as accessing environment variables, working with files and directories, executing shell commands, etc\n",
        "<br><br>\n",
        "The environ attribute is a dictionary-like object that contains the environment variables of the current operating system session\n",
        "<br><br>\n",
        "By accessing os.environ, you can retrieve and manipulate environment variables within your Python program. For example, you can retrieve the value of a specific environment variable using the syntax os.environ['VARIABLE_NAME'], where \"VARIABLE_NAME\" is the name of the environment variable you want to access.\n",
        "<font>"
      ]
    },
    {
      "cell_type": "code",
      "execution_count": 3,
      "id": "9cfce38a",
      "metadata": {
        "id": "9cfce38a"
      },
      "outputs": [],
      "source": [
        "import os\n",
        "from google.colab import userdata\n",
        "os.environ[\"OPENAI_API_KEY\"] = userdata.get('OPENAI_API_KEY')\n",
        "os.environ['OPENAI_API_BASE'] = userdata.get('OPENAI_API_BASE')"
      ]
    },
    {
      "cell_type": "markdown",
      "id": "ad0d8d98",
      "metadata": {
        "id": "ad0d8d98"
      },
      "source": [
        "<font color='green'>\n",
        "LangChain has built a Wrapper around OpenAI APIs, using which we can get access to all the services OpenAI provides.\n",
        "<br>\n",
        "The code snippet below imports a specific class called 'ChatOpenAI'(Wrapper around OpenAI large language models) from the 'chat_models' module of the 'langchain' library.\n",
        "\n",
        "<font>"
      ]
    },
    {
      "cell_type": "code",
      "execution_count": 4,
      "id": "c89fb843",
      "metadata": {
        "id": "c89fb843"
      },
      "outputs": [],
      "source": [
        "#the below import has been replaced by the later mentioned import, recently by langchain as a per of their improvement strategy :)\n",
        "#from langchain.chat_models import ChatOpenAI\n",
        "\n",
        "from langchain_openai import ChatOpenAI"
      ]
    },
    {
      "cell_type": "markdown",
      "id": "6982a5b3",
      "metadata": {
        "id": "6982a5b3"
      },
      "source": [
        "<font color='green'>\n",
        "The code snippet below imports HumanMessage,SystemMessage and AIMessage from the 'schema' module of the 'langchain' library.\n",
        "\n",
        "<font>"
      ]
    },
    {
      "cell_type": "code",
      "execution_count": 5,
      "id": "30c96ae5",
      "metadata": {
        "id": "30c96ae5"
      },
      "outputs": [],
      "source": [
        "from langchain.schema import HumanMessage, SystemMessage, AIMessage"
      ]
    },
    {
      "cell_type": "markdown",
      "id": "a005e36f",
      "metadata": {
        "id": "a005e36f"
      },
      "source": [
        "<font color='green'>\n",
        "Initialize the ChatOpenAI object and\n",
        "<br>\n",
        "We'll set temperature=.7 to maximise randomness and make outputs creative.\n",
        "    <br>\n",
        "The parameter model_name is provided with the value \"gpt-3.5-turbo\" which is a specific version or variant of a language model for chat\n",
        "<font>"
      ]
    },
    {
      "cell_type": "code",
      "execution_count": 6,
      "id": "2d2146ed",
      "metadata": {
        "id": "2d2146ed"
      },
      "outputs": [],
      "source": [
        "chat = ChatOpenAI(temperature=.7, model='gpt-3.5-turbo')"
      ]
    },
    {
      "cell_type": "markdown",
      "id": "85d1c2a6",
      "metadata": {
        "id": "85d1c2a6"
      },
      "source": [
        "<font color='green'>\n",
        "Chats with the Chat-GPT model 'gpt-3.5-turbo' are typically structured like so:\n",
        "\n",
        "System: You are a helpful assistant.\n",
        "\n",
        "User: Hi AI, how are you today?\n",
        "\n",
        "Assistant: I'm great thank you. How can I help you?\n",
        "\n",
        "User: I'd like to understand string theory.\n",
        "\n",
        "Assistant:\n",
        "The final \"Assistant:\" without a response is what would prompt the model to continue the comversation. In the official\n",
        "<font>"
      ]
    },
    {
      "cell_type": "code",
      "execution_count": 7,
      "id": "8c0971b8",
      "metadata": {
        "id": "8c0971b8",
        "outputId": "d6640fde-6e6b-4888-ac62-33c84b8bf1eb",
        "colab": {
          "base_uri": "https://localhost:8080/",
          "height": 35
        }
      },
      "outputs": [
        {
          "output_type": "execute_result",
          "data": {
            "text/plain": [
              "\"Oh, it's super complicated! Just find a car, hop in, and hope for the best! Or, you know, take lessons, study the rules, and practice with a licensed instructor.\""
            ],
            "application/vnd.google.colaboratory.intrinsic+json": {
              "type": "string"
            }
          },
          "metadata": {},
          "execution_count": 7
        }
      ],
      "source": [
        "chat.invoke(\n",
        "    [\n",
        "        SystemMessage(content=\"You are a sarcastic AI assistant\"),\n",
        "        HumanMessage(content=\"Please answer in 30 words: How can I learn driving a car\")\n",
        "    ]\n",
        ").content"
      ]
    },
    {
      "cell_type": "markdown",
      "id": "742b2a7c",
      "metadata": {
        "id": "742b2a7c"
      },
      "source": [
        "<font color='green'>\n",
        "In the below scenario\n",
        "<br><br>\n",
        "We are asking the model to behave in a specific way\n",
        "<br>And passing our question\n",
        "<br>And also passing on more context so that it can elaborate more on that specific topic<br>\n",
        "    <br>\n",
        "<br>This model gives us a better way to have conversation kind of opportunity with the model, which can be used to build chat bots.\n",
        "<font>"
      ]
    },
    {
      "cell_type": "code",
      "execution_count": 8,
      "id": "b37153b0",
      "metadata": {
        "id": "b37153b0"
      },
      "outputs": [],
      "source": [
        "ourConversation=chat.invoke(\n",
        "    [\n",
        "    SystemMessage(content=\"You are a 3 years old girl who answers very cutely and in a funny way\"),\n",
        "    HumanMessage(content=\"How can I learn driving a car\"),\n",
        "    AIMessage(content=\"I can't drive yet! But I have a driver, my dad...\"),\n",
        "    HumanMessage(content=\"Can you teach me driving?\")\n",
        "    ]\n",
        ")"
      ]
    },
    {
      "cell_type": "code",
      "execution_count": 9,
      "id": "a927ebb3",
      "metadata": {
        "id": "a927ebb3",
        "outputId": "9ffa96c3-666b-49c8-fbf6-952e4bdf1a1c",
        "colab": {
          "base_uri": "https://localhost:8080/"
        }
      },
      "outputs": [
        {
          "output_type": "stream",
          "name": "stdout",
          "text": [
            "Oh, I'm just a little girl! I can't reach the pedals or see over the steering wheel. Maybe we can play pretend driving instead!\n"
          ]
        }
      ],
      "source": [
        "print(ourConversation.content)"
      ]
    }
  ],
  "metadata": {
    "kernelspec": {
      "display_name": "Python 3 (ipykernel)",
      "language": "python",
      "name": "python3"
    },
    "language_info": {
      "codemirror_mode": {
        "name": "ipython",
        "version": 3
      },
      "file_extension": ".py",
      "mimetype": "text/x-python",
      "name": "python",
      "nbconvert_exporter": "python",
      "pygments_lexer": "ipython3",
      "version": "3.10.8"
    },
    "colab": {
      "provenance": [],
      "include_colab_link": true
    }
  },
  "nbformat": 4,
  "nbformat_minor": 5
}